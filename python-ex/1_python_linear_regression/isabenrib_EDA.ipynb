{
  "cells": [
    {
      "cell_type": "markdown",
      "metadata": {
        "id": "9SmzDEDU0EEX"
      },
      "source": [
        "# EJERCICIO EDA"
      ]
    },
    {
      "cell_type": "markdown",
      "metadata": {
        "id": "wOxgrj--2nuZ"
      },
      "source": [
        "## PASO 1"
      ]
    },
    {
      "cell_type": "markdown",
      "metadata": {
        "id": "7oR50B_L0VUY"
      },
      "source": [
        "**1. Cargar los datos mediante Pandas**\n",
        "\n",
        "---\n",
        "\n",
        "Con este código se cargan los datos mediante la URL, se cargan en un dataFrame y mostramos los primeros datos.\n",
        "\n"
      ]
    },
    {
      "cell_type": "code",
      "execution_count": 27,
      "metadata": {
        "colab": {
          "base_uri": "https://localhost:8080/",
          "height": 206
        },
        "id": "teG5qFbB1u9k",
        "outputId": "f0b19500-1b9b-418b-93b1-3331e6cf0d6f"
      },
      "outputs": [
        {
          "name": "stdout",
          "output_type": "stream",
          "text": [
            "2.3.3\n"
          ]
        },
        {
          "data": {
            "text/html": [
              "<div>\n",
              "<style scoped>\n",
              "    .dataframe tbody tr th:only-of-type {\n",
              "        vertical-align: middle;\n",
              "    }\n",
              "\n",
              "    .dataframe tbody tr th {\n",
              "        vertical-align: top;\n",
              "    }\n",
              "\n",
              "    .dataframe thead th {\n",
              "        text-align: right;\n",
              "    }\n",
              "</style>\n",
              "<table border=\"1\" class=\"dataframe\">\n",
              "  <thead>\n",
              "    <tr style=\"text-align: right;\">\n",
              "      <th></th>\n",
              "      <th>engine_displacement</th>\n",
              "      <th>num_cylinders</th>\n",
              "      <th>horsepower</th>\n",
              "      <th>vehicle_weight</th>\n",
              "      <th>acceleration</th>\n",
              "      <th>model_year</th>\n",
              "      <th>origin</th>\n",
              "      <th>fuel_type</th>\n",
              "      <th>drivetrain</th>\n",
              "      <th>num_doors</th>\n",
              "      <th>fuel_efficiency_mpg</th>\n",
              "    </tr>\n",
              "  </thead>\n",
              "  <tbody>\n",
              "    <tr>\n",
              "      <th>0</th>\n",
              "      <td>170</td>\n",
              "      <td>3.0</td>\n",
              "      <td>159.0</td>\n",
              "      <td>3413.433759</td>\n",
              "      <td>17.7</td>\n",
              "      <td>2003</td>\n",
              "      <td>Europe</td>\n",
              "      <td>Gasoline</td>\n",
              "      <td>All-wheel drive</td>\n",
              "      <td>0.0</td>\n",
              "      <td>13.231729</td>\n",
              "    </tr>\n",
              "    <tr>\n",
              "      <th>1</th>\n",
              "      <td>130</td>\n",
              "      <td>5.0</td>\n",
              "      <td>97.0</td>\n",
              "      <td>3149.664934</td>\n",
              "      <td>17.8</td>\n",
              "      <td>2007</td>\n",
              "      <td>USA</td>\n",
              "      <td>Gasoline</td>\n",
              "      <td>Front-wheel drive</td>\n",
              "      <td>0.0</td>\n",
              "      <td>13.688217</td>\n",
              "    </tr>\n",
              "    <tr>\n",
              "      <th>2</th>\n",
              "      <td>170</td>\n",
              "      <td>NaN</td>\n",
              "      <td>78.0</td>\n",
              "      <td>3079.038997</td>\n",
              "      <td>15.1</td>\n",
              "      <td>2018</td>\n",
              "      <td>Europe</td>\n",
              "      <td>Gasoline</td>\n",
              "      <td>Front-wheel drive</td>\n",
              "      <td>0.0</td>\n",
              "      <td>14.246341</td>\n",
              "    </tr>\n",
              "    <tr>\n",
              "      <th>3</th>\n",
              "      <td>220</td>\n",
              "      <td>4.0</td>\n",
              "      <td>NaN</td>\n",
              "      <td>2542.392402</td>\n",
              "      <td>20.2</td>\n",
              "      <td>2009</td>\n",
              "      <td>USA</td>\n",
              "      <td>Diesel</td>\n",
              "      <td>All-wheel drive</td>\n",
              "      <td>2.0</td>\n",
              "      <td>16.912736</td>\n",
              "    </tr>\n",
              "    <tr>\n",
              "      <th>4</th>\n",
              "      <td>210</td>\n",
              "      <td>1.0</td>\n",
              "      <td>140.0</td>\n",
              "      <td>3460.870990</td>\n",
              "      <td>14.4</td>\n",
              "      <td>2009</td>\n",
              "      <td>Europe</td>\n",
              "      <td>Gasoline</td>\n",
              "      <td>All-wheel drive</td>\n",
              "      <td>2.0</td>\n",
              "      <td>12.488369</td>\n",
              "    </tr>\n",
              "  </tbody>\n",
              "</table>\n",
              "</div>"
            ],
            "text/plain": [
              "   engine_displacement  num_cylinders  horsepower  vehicle_weight  \\\n",
              "0                  170            3.0       159.0     3413.433759   \n",
              "1                  130            5.0        97.0     3149.664934   \n",
              "2                  170            NaN        78.0     3079.038997   \n",
              "3                  220            4.0         NaN     2542.392402   \n",
              "4                  210            1.0       140.0     3460.870990   \n",
              "\n",
              "   acceleration  model_year  origin fuel_type         drivetrain  num_doors  \\\n",
              "0          17.7        2003  Europe  Gasoline    All-wheel drive        0.0   \n",
              "1          17.8        2007     USA  Gasoline  Front-wheel drive        0.0   \n",
              "2          15.1        2018  Europe  Gasoline  Front-wheel drive        0.0   \n",
              "3          20.2        2009     USA    Diesel    All-wheel drive        2.0   \n",
              "4          14.4        2009  Europe  Gasoline    All-wheel drive        2.0   \n",
              "\n",
              "   fuel_efficiency_mpg  \n",
              "0            13.231729  \n",
              "1            13.688217  \n",
              "2            14.246341  \n",
              "3            16.912736  \n",
              "4            12.488369  "
            ]
          },
          "execution_count": 27,
          "metadata": {},
          "output_type": "execute_result"
        }
      ],
      "source": [
        "import pandas as pd\n",
        "import numpy as np\n",
        "\n",
        "print(pd.__version__)\n",
        "\n",
        "url = \"https://raw.githubusercontent.com/bigdatadatafan/datasets-clase/main/car_fuel_efficiency.csv\"\n",
        "df_efficiency = pd.read_csv(url)\n",
        "\n",
        "df_efficiency.head()"
      ]
    },
    {
      "cell_type": "markdown",
      "metadata": {
        "id": "mQlB-Tpa2wwI"
      },
      "source": [
        "## PASO 2"
      ]
    },
    {
      "cell_type": "markdown",
      "metadata": {
        "id": "P1QrVBRP20j-"
      },
      "source": [
        "**2. Ver la cantidad de filas que hay en el df.**\n",
        "\n",
        "---\n",
        "\n",
        "Utilizamos 'len' para obtener la cantidad de filas. En este caso la respuesta correcta es **9704**."
      ]
    },
    {
      "cell_type": "code",
      "execution_count": 4,
      "metadata": {
        "colab": {
          "base_uri": "https://localhost:8080/"
        },
        "id": "fFHMH4uA3IL_",
        "outputId": "58593b89-38e3-4906-ec75-f900aa272ea4"
      },
      "outputs": [
        {
          "data": {
            "text/plain": [
              "9704"
            ]
          },
          "execution_count": 4,
          "metadata": {},
          "output_type": "execute_result"
        }
      ],
      "source": [
        "len(df_efficiency)"
      ]
    },
    {
      "cell_type": "markdown",
      "metadata": {
        "id": "3kfNLst53iil"
      },
      "source": [
        "## PASO 3"
      ]
    },
    {
      "cell_type": "markdown",
      "metadata": {
        "id": "UfAK4Jqf3ooT"
      },
      "source": [
        "**3. Obtener la cantidad de tipos de gasolina**\n",
        "\n",
        "---\n",
        "\n",
        "Obtenemos la cantidad distinta de tipos de gasolina que hay. Además obtenemos cuáles son. En este caso la respuesta correcta es **2**."
      ]
    },
    {
      "cell_type": "code",
      "execution_count": 5,
      "metadata": {
        "colab": {
          "base_uri": "https://localhost:8080/"
        },
        "id": "cN-w_YFd3ycr",
        "outputId": "fdfe41af-d545-4c9d-bbd5-e1ada96e404e"
      },
      "outputs": [
        {
          "data": {
            "text/plain": [
              "2"
            ]
          },
          "execution_count": 5,
          "metadata": {},
          "output_type": "execute_result"
        }
      ],
      "source": [
        "# Obtener la cantidad.\n",
        "df_efficiency[\"fuel_type\"].nunique()"
      ]
    },
    {
      "cell_type": "code",
      "execution_count": 6,
      "metadata": {
        "colab": {
          "base_uri": "https://localhost:8080/",
          "height": 178
        },
        "id": "9SRRtR455LCX",
        "outputId": "0b15dcd3-bb06-4d09-eaf9-021c90a4f91b"
      },
      "outputs": [
        {
          "data": {
            "text/plain": [
              "fuel_type\n",
              "Gasoline    4898\n",
              "Diesel      4806\n",
              "Name: count, dtype: int64"
            ]
          },
          "execution_count": 6,
          "metadata": {},
          "output_type": "execute_result"
        }
      ],
      "source": [
        "# Obtener los nombres de dichos valores.\n",
        "df_efficiency[\"fuel_type\"].value_counts()"
      ]
    },
    {
      "cell_type": "markdown",
      "metadata": {
        "id": "8Jlyvq4w5RHX"
      },
      "source": [
        "## PASO 4"
      ]
    },
    {
      "cell_type": "markdown",
      "metadata": {
        "id": "ZfyNLTWx5X7S"
      },
      "source": [
        "**4. Calcular la cantidad de columnas con valores perdidos (null)**\n",
        "\n",
        "---\n",
        "\n",
        "Utilizamos 2 métodos aunque realmente no hay diferencia funcional entre ellos. La repuesta correcta en este caso es **4**."
      ]
    },
    {
      "cell_type": "code",
      "execution_count": 7,
      "metadata": {
        "colab": {
          "base_uri": "https://localhost:8080/",
          "height": 429
        },
        "id": "WA9YsaAV5szG",
        "outputId": "19be9dbc-a553-4b7b-c463-e0cddf1ea91f"
      },
      "outputs": [
        {
          "data": {
            "text/plain": [
              "engine_displacement      0\n",
              "num_cylinders          482\n",
              "horsepower             708\n",
              "vehicle_weight           0\n",
              "acceleration           930\n",
              "model_year               0\n",
              "origin                   0\n",
              "fuel_type                0\n",
              "drivetrain               0\n",
              "num_doors              502\n",
              "fuel_efficiency_mpg      0\n",
              "dtype: int64"
            ]
          },
          "execution_count": 7,
          "metadata": {},
          "output_type": "execute_result"
        }
      ],
      "source": [
        "# Obtener la cantidad de valores perdidos en cada columna.\n",
        "# Opción 1.\n",
        "df_efficiency.isnull().sum()"
      ]
    },
    {
      "cell_type": "code",
      "execution_count": 8,
      "metadata": {
        "colab": {
          "base_uri": "https://localhost:8080/",
          "height": 429
        },
        "id": "sKtCOyFJ6Zh-",
        "outputId": "e0fe37d7-0e81-433c-bed7-46f655b85322"
      },
      "outputs": [
        {
          "data": {
            "text/plain": [
              "engine_displacement      0\n",
              "num_cylinders          482\n",
              "horsepower             708\n",
              "vehicle_weight           0\n",
              "acceleration           930\n",
              "model_year               0\n",
              "origin                   0\n",
              "fuel_type                0\n",
              "drivetrain               0\n",
              "num_doors              502\n",
              "fuel_efficiency_mpg      0\n",
              "dtype: int64"
            ]
          },
          "execution_count": 8,
          "metadata": {},
          "output_type": "execute_result"
        }
      ],
      "source": [
        "# Obtener la cantidad de valores perdidos en cada columna.\n",
        "# Opción 2.\n",
        "df_efficiency.isna().sum()"
      ]
    },
    {
      "cell_type": "code",
      "execution_count": 9,
      "metadata": {
        "colab": {
          "base_uri": "https://localhost:8080/"
        },
        "id": "ujKRKTRk6FYu",
        "outputId": "c3b9b45a-f9fb-4c88-f77a-7fb2ef239fa5"
      },
      "outputs": [
        {
          "data": {
            "text/plain": [
              "np.int64(4)"
            ]
          },
          "execution_count": 9,
          "metadata": {},
          "output_type": "execute_result"
        }
      ],
      "source": [
        "# Obtener la cantidad de columnas con valores perdidos.\n",
        "# Opción 1.\n",
        "df_efficiency.isnull().any().sum()"
      ]
    },
    {
      "cell_type": "code",
      "execution_count": 10,
      "metadata": {
        "colab": {
          "base_uri": "https://localhost:8080/"
        },
        "id": "xZGP6Jas7A0s",
        "outputId": "160177b3-6bca-4ded-e9e6-dab71e851d44"
      },
      "outputs": [
        {
          "data": {
            "text/plain": [
              "np.int64(4)"
            ]
          },
          "execution_count": 10,
          "metadata": {},
          "output_type": "execute_result"
        }
      ],
      "source": [
        "# Obtener la cantidad de columnas con valores perdidos.\n",
        "# Opción 2.\n",
        "df_efficiency.isna().any().sum()"
      ]
    },
    {
      "cell_type": "markdown",
      "metadata": {
        "id": "6mCn-u5M7l_d"
      },
      "source": [
        "## PASO 5"
      ]
    },
    {
      "cell_type": "markdown",
      "metadata": {
        "id": "pbWZp39D7_UE"
      },
      "source": [
        "**5. Obtener el máximo de eficiencia de combustible de Asia**\n",
        "\n",
        "---\n",
        "\n",
        "Se crea un dataFrame con solo los datos de Asia y luego se calcula el máximo de la columna relativa a la pregunta. La respuesta correcta es **23.759122836520497**."
      ]
    },
    {
      "cell_type": "code",
      "execution_count": 11,
      "metadata": {
        "id": "mUKzAT2T8R8l"
      },
      "outputs": [],
      "source": [
        "df_asia = df_efficiency[df_efficiency[\"origin\"] == \"Asia\"]"
      ]
    },
    {
      "cell_type": "code",
      "execution_count": 12,
      "metadata": {
        "colab": {
          "base_uri": "https://localhost:8080/"
        },
        "id": "3njyoEIm9WA7",
        "outputId": "7c810cdf-dc35-4fd1-fff2-348f1a760829"
      },
      "outputs": [
        {
          "data": {
            "text/plain": [
              "np.float64(23.759122836520497)"
            ]
          },
          "execution_count": 12,
          "metadata": {},
          "output_type": "execute_result"
        }
      ],
      "source": [
        "df_asia[\"fuel_efficiency_mpg\"].max()"
      ]
    },
    {
      "cell_type": "markdown",
      "metadata": {
        "id": "aQHpWP0N-HRh"
      },
      "source": [
        "## PASO 6"
      ]
    },
    {
      "cell_type": "markdown",
      "metadata": {
        "id": "2HDpyB27-LQu"
      },
      "source": [
        "**6. Obtener el valor medio de caballos de potencia**\n",
        "\n",
        "---\n",
        "\n",
        "* Encontrar el valor medio. Media: **149.65729212983547**. Mediana: **149.0**\n",
        "* Encontrar el valor más frecuente. **152.0**. *Realmente tendría más sentido rellenarlo con la media para no desvirtualizar los datos*.\n",
        "* Utilizar fillna para llenar los valores vacíos por el valor más frecuente.\n",
        "* Calcular de nuevo el valor total. **149.82821516900248**. Mediana: **152.0**\n",
        "\n",
        "La respuesta correcta es que ha **aumentado**."
      ]
    },
    {
      "cell_type": "code",
      "execution_count": 13,
      "metadata": {
        "colab": {
          "base_uri": "https://localhost:8080/"
        },
        "id": "ad0gCFaw_IRk",
        "outputId": "de2c5fef-c5c3-4042-9582-cf1005ea7c52"
      },
      "outputs": [
        {
          "data": {
            "text/plain": [
              "np.float64(149.65729212983547)"
            ]
          },
          "execution_count": 13,
          "metadata": {},
          "output_type": "execute_result"
        }
      ],
      "source": [
        "# Encontrar el valor medio.\n",
        "df_efficiency[\"horsepower\"].mean()"
      ]
    },
    {
      "cell_type": "code",
      "execution_count": 14,
      "metadata": {
        "colab": {
          "base_uri": "https://localhost:8080/"
        },
        "id": "cwTmc8av_sps",
        "outputId": "874c5730-2448-40f7-ebf1-95ff33f0c97b"
      },
      "outputs": [
        {
          "data": {
            "text/plain": [
              "np.float64(152.0)"
            ]
          },
          "execution_count": 14,
          "metadata": {},
          "output_type": "execute_result"
        }
      ],
      "source": [
        "# Encontrar el valor más frecuente.\n",
        "common_value = df_efficiency[\"horsepower\"].mode()[0]\n",
        "common_value"
      ]
    },
    {
      "cell_type": "code",
      "execution_count": 15,
      "metadata": {
        "id": "FY2aoxcWAHIN"
      },
      "outputs": [],
      "source": [
        "# Utilizar fillna para llenar los valores vacíos con el más frecuente.\n",
        "# inplace = True para cambiarlo directamente sobre el DataFrame.\n",
        "# df_efficiency.fillna({\"horsepower\": common_value}, inplace=True)\n",
        "\n",
        "df_efficiency[\"horsepower\"] = df_efficiency[\"horsepower\"].fillna(common_value)"
      ]
    },
    {
      "cell_type": "code",
      "execution_count": 16,
      "metadata": {
        "colab": {
          "base_uri": "https://localhost:8080/",
          "height": 206
        },
        "id": "hSxIGkmeCbE1",
        "outputId": "127d3eb4-9014-4d92-e675-5315c91c1612"
      },
      "outputs": [
        {
          "data": {
            "text/html": [
              "<div>\n",
              "<style scoped>\n",
              "    .dataframe tbody tr th:only-of-type {\n",
              "        vertical-align: middle;\n",
              "    }\n",
              "\n",
              "    .dataframe tbody tr th {\n",
              "        vertical-align: top;\n",
              "    }\n",
              "\n",
              "    .dataframe thead th {\n",
              "        text-align: right;\n",
              "    }\n",
              "</style>\n",
              "<table border=\"1\" class=\"dataframe\">\n",
              "  <thead>\n",
              "    <tr style=\"text-align: right;\">\n",
              "      <th></th>\n",
              "      <th>engine_displacement</th>\n",
              "      <th>num_cylinders</th>\n",
              "      <th>horsepower</th>\n",
              "      <th>vehicle_weight</th>\n",
              "      <th>acceleration</th>\n",
              "      <th>model_year</th>\n",
              "      <th>origin</th>\n",
              "      <th>fuel_type</th>\n",
              "      <th>drivetrain</th>\n",
              "      <th>num_doors</th>\n",
              "      <th>fuel_efficiency_mpg</th>\n",
              "    </tr>\n",
              "  </thead>\n",
              "  <tbody>\n",
              "    <tr>\n",
              "      <th>0</th>\n",
              "      <td>170</td>\n",
              "      <td>3.0</td>\n",
              "      <td>159.0</td>\n",
              "      <td>3413.433759</td>\n",
              "      <td>17.7</td>\n",
              "      <td>2003</td>\n",
              "      <td>Europe</td>\n",
              "      <td>Gasoline</td>\n",
              "      <td>All-wheel drive</td>\n",
              "      <td>0.0</td>\n",
              "      <td>13.231729</td>\n",
              "    </tr>\n",
              "    <tr>\n",
              "      <th>1</th>\n",
              "      <td>130</td>\n",
              "      <td>5.0</td>\n",
              "      <td>97.0</td>\n",
              "      <td>3149.664934</td>\n",
              "      <td>17.8</td>\n",
              "      <td>2007</td>\n",
              "      <td>USA</td>\n",
              "      <td>Gasoline</td>\n",
              "      <td>Front-wheel drive</td>\n",
              "      <td>0.0</td>\n",
              "      <td>13.688217</td>\n",
              "    </tr>\n",
              "    <tr>\n",
              "      <th>2</th>\n",
              "      <td>170</td>\n",
              "      <td>NaN</td>\n",
              "      <td>78.0</td>\n",
              "      <td>3079.038997</td>\n",
              "      <td>15.1</td>\n",
              "      <td>2018</td>\n",
              "      <td>Europe</td>\n",
              "      <td>Gasoline</td>\n",
              "      <td>Front-wheel drive</td>\n",
              "      <td>0.0</td>\n",
              "      <td>14.246341</td>\n",
              "    </tr>\n",
              "    <tr>\n",
              "      <th>3</th>\n",
              "      <td>220</td>\n",
              "      <td>4.0</td>\n",
              "      <td>152.0</td>\n",
              "      <td>2542.392402</td>\n",
              "      <td>20.2</td>\n",
              "      <td>2009</td>\n",
              "      <td>USA</td>\n",
              "      <td>Diesel</td>\n",
              "      <td>All-wheel drive</td>\n",
              "      <td>2.0</td>\n",
              "      <td>16.912736</td>\n",
              "    </tr>\n",
              "    <tr>\n",
              "      <th>4</th>\n",
              "      <td>210</td>\n",
              "      <td>1.0</td>\n",
              "      <td>140.0</td>\n",
              "      <td>3460.870990</td>\n",
              "      <td>14.4</td>\n",
              "      <td>2009</td>\n",
              "      <td>Europe</td>\n",
              "      <td>Gasoline</td>\n",
              "      <td>All-wheel drive</td>\n",
              "      <td>2.0</td>\n",
              "      <td>12.488369</td>\n",
              "    </tr>\n",
              "  </tbody>\n",
              "</table>\n",
              "</div>"
            ],
            "text/plain": [
              "   engine_displacement  num_cylinders  horsepower  vehicle_weight  \\\n",
              "0                  170            3.0       159.0     3413.433759   \n",
              "1                  130            5.0        97.0     3149.664934   \n",
              "2                  170            NaN        78.0     3079.038997   \n",
              "3                  220            4.0       152.0     2542.392402   \n",
              "4                  210            1.0       140.0     3460.870990   \n",
              "\n",
              "   acceleration  model_year  origin fuel_type         drivetrain  num_doors  \\\n",
              "0          17.7        2003  Europe  Gasoline    All-wheel drive        0.0   \n",
              "1          17.8        2007     USA  Gasoline  Front-wheel drive        0.0   \n",
              "2          15.1        2018  Europe  Gasoline  Front-wheel drive        0.0   \n",
              "3          20.2        2009     USA    Diesel    All-wheel drive        2.0   \n",
              "4          14.4        2009  Europe  Gasoline    All-wheel drive        2.0   \n",
              "\n",
              "   fuel_efficiency_mpg  \n",
              "0            13.231729  \n",
              "1            13.688217  \n",
              "2            14.246341  \n",
              "3            16.912736  \n",
              "4            12.488369  "
            ]
          },
          "execution_count": 16,
          "metadata": {},
          "output_type": "execute_result"
        }
      ],
      "source": [
        "# Comprobamos que lo esté cambiando.\n",
        "df_efficiency.head()"
      ]
    },
    {
      "cell_type": "code",
      "execution_count": 17,
      "metadata": {
        "colab": {
          "base_uri": "https://localhost:8080/",
          "height": 158
        },
        "id": "TV5QahB8Bhg7",
        "outputId": "a9117760-7830-4702-a45c-d485382964a0"
      },
      "outputs": [
        {
          "data": {
            "text/plain": [
              "np.float64(152.0)"
            ]
          },
          "execution_count": 17,
          "metadata": {},
          "output_type": "execute_result"
        }
      ],
      "source": [
        "# Encontrar el valor medio.\n",
        "df_efficiency[\"horsepower\"].median()"
      ]
    },
    {
      "cell_type": "markdown",
      "metadata": {
        "id": "8hj6BuFXEV0Q"
      },
      "source": [
        "## PASO 7"
      ]
    },
    {
      "cell_type": "markdown",
      "metadata": {
        "id": "QQVas27WEpg6"
      },
      "source": [
        "**7. SUMA DE PESOS/CANTIDADES**\n",
        "\n",
        "---\n",
        "\n",
        "1.   Seleccionar todos los coches de Asia.\n",
        "2.   Seleccionar solo las columnas de 'vehicle_weight' y 'model_year'.\n",
        "3.   Seleccionar los 7 primeros valores.\n",
        "4.   Obtener el array subyacente. *Llamar x a dicho array*.\n",
        "5.   Multiplicar *x* por la traspuesta de *x*, *t*. El resultado debe ser *xtx*.\n",
        "6.   Invertir *xtx*.\n",
        "7.   Crear un array *y* con los valores: [1100, 1300, 800, 900, 1000, 1100, 1200].\n",
        "8.   Multiplicar a la inversa con la traspuesta de *x* y multiplicar el resultado por *y*. Llamar al resultado *w*.\n",
        "9.   Obtener la suma de los elementos del resultado.\n",
        "\n"
      ]
    },
    {
      "cell_type": "code",
      "execution_count": 18,
      "metadata": {
        "id": "shkjSawtGFpe"
      },
      "outputs": [],
      "source": [
        "# Obtener los coches de asia.\n",
        "df_asia_cars = df_efficiency[df_efficiency[\"origin\"] == \"Asia\"]"
      ]
    },
    {
      "cell_type": "code",
      "execution_count": 19,
      "metadata": {
        "colab": {
          "base_uri": "https://localhost:8080/",
          "height": 423
        },
        "id": "lUPpnpBEGXvr",
        "outputId": "787ddd0e-fbca-42e0-a297-167f68285949"
      },
      "outputs": [],
      "source": [
        "# Seleccionar las columnas \"vehicle_weight\" y \"model_year\".\n",
        "df_columnns_selected = df_asia_cars[['vehicle_weight', \"model_year\"]]"
      ]
    },
    {
      "cell_type": "code",
      "execution_count": 20,
      "metadata": {
        "colab": {
          "base_uri": "https://localhost:8080/",
          "height": 269
        },
        "id": "ReFVEoUdHCml",
        "outputId": "d97c41d4-f376-483d-cc97-6ecf71565057"
      },
      "outputs": [],
      "source": [
        "# Seleccionar solo los 7 primeros valores y llamarle x.\n",
        "x = df_columnns_selected.iloc[0:7]"
      ]
    },
    {
      "cell_type": "code",
      "execution_count": 21,
      "metadata": {
        "colab": {
          "base_uri": "https://localhost:8080/",
          "height": 125
        },
        "id": "Xz4_bNGwHnfT",
        "outputId": "21332697-2f4d-4b8b-f7bf-79cf5b696ba7"
      },
      "outputs": [],
      "source": [
        "# Obtenemos la traspuesta y la multiplicamos por la original.\n",
        "xtx = x.T @ x"
      ]
    },
    {
      "cell_type": "code",
      "execution_count": 22,
      "metadata": {
        "colab": {
          "base_uri": "https://localhost:8080/"
        },
        "id": "1qwv5gYNHzt2",
        "outputId": "4284fa0c-b4e5-4b38-c5bd-e4440d6106fd"
      },
      "outputs": [],
      "source": [
        "# Invertimos xtx.\n",
        "xtx_inv = np.linalg.inv(xtx)"
      ]
    },
    {
      "cell_type": "code",
      "execution_count": 23,
      "metadata": {
        "id": "1a9GzG3cJLGL"
      },
      "outputs": [],
      "source": [
        "# Creamos un array 'y' con algunos valores.\n",
        "y = [1100, 1300, 800, 900, 1000, 1100, 1200]"
      ]
    },
    {
      "cell_type": "code",
      "execution_count": 24,
      "metadata": {
        "colab": {
          "base_uri": "https://localhost:8080/",
          "height": 147
        },
        "id": "00c2x2zmJTzx",
        "outputId": "e527a3f6-1745-46cd-f7ef-32695484708f"
      },
      "outputs": [
        {
          "data": {
            "text/plain": [
              "0    0.013864\n",
              "1    0.504907\n",
              "dtype: float64"
            ]
          },
          "execution_count": 24,
          "metadata": {},
          "output_type": "execute_result"
        }
      ],
      "source": [
        "# Multiplicación de la inversa de xtx con la traspuesta de x.\n",
        "xtx_op = xtx_inv @ x.T\n",
        "w = xtx_op @ y\n",
        "w"
      ]
    },
    {
      "cell_type": "code",
      "execution_count": 26,
      "metadata": {
        "colab": {
          "base_uri": "https://localhost:8080/"
        },
        "id": "cbCTSp24KCwE",
        "outputId": "8a63f14e-6f7c-41c4-845b-853f6d7debf8"
      },
      "outputs": [
        {
          "data": {
            "text/plain": [
              "np.float64(0.5187709081074017)"
            ]
          },
          "execution_count": 26,
          "metadata": {},
          "output_type": "execute_result"
        }
      ],
      "source": [
        "# Obtener la suma de los elementos del resultado.\n",
        "suma = w[0] + w[1]\n",
        "suma"
      ]
    }
  ],
  "metadata": {
    "colab": {
      "provenance": []
    },
    "kernelspec": {
      "display_name": "venv",
      "language": "python",
      "name": "python3"
    },
    "language_info": {
      "codemirror_mode": {
        "name": "ipython",
        "version": 3
      },
      "file_extension": ".py",
      "mimetype": "text/x-python",
      "name": "python",
      "nbconvert_exporter": "python",
      "pygments_lexer": "ipython3",
      "version": "3.13.9"
    }
  },
  "nbformat": 4,
  "nbformat_minor": 0
}
