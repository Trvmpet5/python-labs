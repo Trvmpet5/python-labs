{
 "cells": [
  {
   "cell_type": "markdown",
   "id": "98541186",
   "metadata": {},
   "source": [
    "# ENTORNOS VIRTUALES"
   ]
  },
  {
   "cell_type": "markdown",
   "id": "db3c0a8e",
   "metadata": {},
   "source": [
    "---"
   ]
  },
  {
   "cell_type": "markdown",
   "id": "cf825cf1",
   "metadata": {},
   "source": [
    "## INTRODUCCIÓN"
   ]
  },
  {
   "cell_type": "markdown",
   "id": "8eedd56c",
   "metadata": {},
   "source": [
    "Para utilizar Python orientado a \"x\" rama, llamémoslo IA, BigData o Arquitectura, necesitamos utilizar librerías o dependencias. Existen librerías que son estándares de Python y ya están instaladas y otras que son **dependencias externas**.\n",
    "\n",
    "Tenemos 2 opciones de utilizar dichas librerías:\n",
    "1. A nivel del sistema (instalarlas en todo el sistema). El problema es que nos forzamos a utilizar dicha librería con su correspondiente versión siempre y puede dar incompatibilidades o no tenemos porque querer usar esa versión.\n",
    "2. A nivel de **entorno virtual** donde podemos tener diferentes versiones por proyecto."
   ]
  },
  {
   "cell_type": "markdown",
   "id": "4aad8a6c",
   "metadata": {},
   "source": [
    "Un entorno virtual es una caja donde tenemos nuestros proyectos con sus versiones encerrados y no dejamos que le afecte el exterior ni que afecten al exterior."
   ]
  },
  {
   "cell_type": "markdown",
   "id": "cf7d19f3",
   "metadata": {},
   "source": [
    "---"
   ]
  },
  {
   "cell_type": "markdown",
   "id": "7e659524",
   "metadata": {},
   "source": [
    "## CREACIÓN DE ENTORNOS VIRTUALES"
   ]
  },
  {
   "cell_type": "markdown",
   "id": "999e88ec",
   "metadata": {},
   "source": [
    "El módulo utilizado para crear entornos virtuales en Python se conoce como **venv**.\n",
    "\n",
    "Para crear un entorno virtual, se decide en la carpeta que se quiere crear y se ejecuta el módulo **venv** como script con la ruta a la carpeta."
   ]
  },
  {
   "cell_type": "code",
   "execution_count": null,
   "id": "a2bf9538",
   "metadata": {
    "vscode": {
     "languageId": "plaintext"
    }
   },
   "outputs": [],
   "source": [
    "# Creación de un entorno virtual\n",
    "python -m venv example-env"
   ]
  },
  {
   "cell_type": "markdown",
   "id": "be45e96d",
   "metadata": {},
   "source": [
    "Con este ejemplo se crea una carpeta **example-env** (en el caso de que no exista) y crea los directorios dentro de él para \"simular\" otro Python."
   ]
  },
  {
   "cell_type": "markdown",
   "id": "e3238d98",
   "metadata": {},
   "source": [
    "El siguiente paso sería **activar** el entrono virtual."
   ]
  },
  {
   "cell_type": "code",
   "execution_count": null,
   "id": "2e1bdd82",
   "metadata": {
    "vscode": {
     "languageId": "plaintext"
    }
   },
   "outputs": [],
   "source": [
    "# Activación de un entorno virtual\n",
    "example-env\\Scripts\\activate\n",
    "\n",
    "# Desactivación del entorno virtual\n",
    "deactivate"
   ]
  },
  {
   "cell_type": "markdown",
   "id": "c2100839",
   "metadata": {},
   "source": [
    "https://docs.python.org/es/3.13/tutorial/venv.html#creating-virtual-environments"
   ]
  }
 ],
 "metadata": {
  "language_info": {
   "name": "python"
  }
 },
 "nbformat": 4,
 "nbformat_minor": 5
}
